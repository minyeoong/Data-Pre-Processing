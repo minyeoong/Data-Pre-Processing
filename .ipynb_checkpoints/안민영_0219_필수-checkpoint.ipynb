{
 "cells": [
  {
   "cell_type": "markdown",
   "id": "dbd8b96a",
   "metadata": {},
   "source": [
    "## 필수과제 \n",
    "- prophet에 대한 파라미터를 모두 다 정리해 주시고\n",
    "- 실제 파라미터를 넣어서 예측값을 고도화 시켜주세요\n",
    "- 모두 예측값을 만들어서 실제값과 비교해서 오차율을 계산해 주세요. (오차율계산법 확인)\n",
    "- 기본으로만 사용했던 prophet 예측값과, 실제 파라미터를 튜닝햇을때 예측값을 비교하고\n",
    "- 어떤 파라미터가 실제값에 영향을 주었는지 정리하고 발표해 주세요!"
   ]
  },
  {
   "cell_type": "code",
   "execution_count": null,
   "id": "548c07d3",
   "metadata": {},
   "outputs": [],
   "source": []
  }
 ],
 "metadata": {
  "kernelspec": {
   "display_name": "Python 3 (ipykernel)",
   "language": "python",
   "name": "python3"
  },
  "language_info": {
   "codemirror_mode": {
    "name": "ipython",
    "version": 3
   },
   "file_extension": ".py",
   "mimetype": "text/x-python",
   "name": "python",
   "nbconvert_exporter": "python",
   "pygments_lexer": "ipython3",
   "version": "3.9.7"
  }
 },
 "nbformat": 4,
 "nbformat_minor": 5
}
